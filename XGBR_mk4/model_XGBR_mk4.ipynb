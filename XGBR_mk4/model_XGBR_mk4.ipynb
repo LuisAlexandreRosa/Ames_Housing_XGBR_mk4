{
 "cells": [
  {
   "cell_type": "markdown",
   "id": "ef8bc50e-a4a5-46e9-ac07-2b72ca25251b",
   "metadata": {},
   "source": [
    "## Módulos"
   ]
  },
  {
   "cell_type": "code",
   "execution_count": 147,
   "id": "f0ac1237-5da6-45c6-ba63-e65150869bcc",
   "metadata": {},
   "outputs": [],
   "source": [
    "import pandas as pd\n",
    "import numpy as np\n",
    "from xgboost import XGBRegressor\n",
    "import xgboost as xgb\n",
    "from sklearn.model_selection import cross_val_score, train_test_split\n",
    "from sklearn.preprocessing import StandardScaler\n",
    "from sklearn.linear_model import LinearRegression, RidgeCV, LassoCV, ElasticNetCV, Ridge, LassoLarsCV\n",
    "from sklearn.metrics import mean_squared_error, make_scorer\n",
    "from sklearn.metrics import mean_absolute_error\n",
    "from scipy.stats import skew\n",
    "from IPython.display import display\n",
    "import matplotlib.pyplot as plt\n",
    "import matplotlib\n",
    "import seaborn as sns"
   ]
  },
  {
   "cell_type": "markdown",
   "id": "722235c7-8bdc-494f-9f78-da71fe34f735",
   "metadata": {},
   "source": [
    "### Carregar dataset de treino"
   ]
  },
  {
   "cell_type": "code",
   "execution_count": 148,
   "id": "5e93bb48-d5fd-4dbc-9a6f-1dde1e5935dd",
   "metadata": {},
   "outputs": [],
   "source": [
    "# Definitions\n",
    "pd.set_option('display.float_format', lambda x: '%.3f' % x)\n",
    "%matplotlib inline\n",
    "#njobs = 4"
   ]
  },
  {
   "cell_type": "code",
   "execution_count": 149,
   "id": "bc3e5ece-bd8a-4e94-a533-809f7f0ac151",
   "metadata": {},
   "outputs": [
    {
     "name": "stdout",
     "output_type": "stream",
     "text": [
      "Train: (1460, 81)\n"
     ]
    }
   ],
   "source": [
    "train = pd.read_csv('train.csv')\n",
    "print(f'Train: {train.shape}')"
   ]
  },
  {
   "cell_type": "markdown",
   "id": "e0bb1eba-ae67-471f-86fb-5934e0663340",
   "metadata": {},
   "source": [
    "## Verificar id's repetidos, outliers, separar e usar log transform no y"
   ]
  },
  {
   "cell_type": "code",
   "execution_count": 150,
   "id": "ed7f4161-96d3-4355-8aa0-a322af0d1aa7",
   "metadata": {},
   "outputs": [
    {
     "name": "stdout",
     "output_type": "stream",
     "text": [
      "Existem 0 ids repetidas para um total de 1460 IDs\n"
     ]
    }
   ],
   "source": [
    "# Valores repetidos\n",
    "unique_ids = len(set(train.Id))\n",
    "total_ids = train.shape[0]\n",
    "dupli_ids = total_ids - unique_ids\n",
    "print(f'Existem {dupli_ids} ids repetidas para um total de {total_ids} IDs')\n",
    "train.drop(\"Id\", axis = 1, inplace = True)"
   ]
  },
  {
   "cell_type": "code",
   "execution_count": 151,
   "id": "3c507f30-827e-49c3-86b5-1cc072aa63f4",
   "metadata": {},
   "outputs": [
    {
     "data": {
      "image/png": "[encoded data removed]",
      "text/plain": [
       "<Figure size 432x288 with 1 Axes>"
      ]
     },
     "metadata": {
      "needs_background": "light"
     },
     "output_type": "display_data"
    }
   ],
   "source": [
    "# Verificando e retirando os outliers como recomendado por Dean De Cock para o nosso dataset\n",
    "plt.scatter(train.GrLivArea, train.SalePrice, c = \"blue\", marker = \"s\")\n",
    "plt.title(\"Looking for outliers\")\n",
    "plt.xlabel(\"GrLivArea\")\n",
    "plt.ylabel(\"SalePrice\")\n",
    "plt.show()\n",
    "train = train[train.GrLivArea < 4000]"
   ]
  },
  {
   "cell_type": "code",
   "execution_count": 152,
   "id": "331739f2-a22d-423c-bbc6-1aad46a16a86",
   "metadata": {},
   "outputs": [
    {
     "data": {
      "image/png": "[encoded data removed]",
      "text/plain": [
       "<Figure size 432x288 with 1 Axes>"
      ]
     },
     "metadata": {
      "needs_background": "light"
     },
     "output_type": "display_data"
    }
   ],
   "source": [
    "plt.scatter(train.GrLivArea, train.SalePrice, c = \"blue\", marker = \"s\")\n",
    "plt.title(\"Looking for outliers\")\n",
    "plt.xlabel(\"GrLivArea\")\n",
    "plt.ylabel(\"SalePrice\")\n",
    "plt.show()"
   ]
  },
  {
   "cell_type": "code",
   "execution_count": 153,
   "id": "213ea21c-3a9a-43c9-a54b-2db782cb159e",
   "metadata": {},
   "outputs": [],
   "source": [
    "# usar log transform nos preços para se adequar à pontuação oficial\n",
    "train.SalePrice = np.log1p(train.SalePrice)\n",
    "y = train.SalePrice"
   ]
  },
  {
   "cell_type": "markdown",
   "id": "4258e2f8-fee3-464c-8bd4-c59c6acc434b",
   "metadata": {},
   "source": [
    "### Corrigir missing values e codificar features"
   ]
  },
  {
   "cell_type": "code",
   "execution_count": 154,
   "id": "3b5c98d5-6e70-4c9c-9f48-d6f355e68b14",
   "metadata": {},
   "outputs": [],
   "source": [
    "# Resolver os missing values das features onde média, mediana e moda não são adequados.\n",
    "# Alley: aqui NA significa que não há acesso a alley\n",
    "train.loc[:, 'Alley'] = train.loc[:,'Alley'].fillna('None')\n",
    "\n",
    "# BedroomAbvGr : NA most likely means 0\n",
    "train.loc[:, \"BedroomAbvGr\"] = train.loc[:, \"BedroomAbvGr\"].fillna(0\n",
    "                                                                  )\n",
    "# BsmtQual etc : data description says NA for basement features is \"no basement\"\n",
    "train.loc[:, \"BsmtQual\"] = train.loc[:, \"BsmtQual\"].fillna(\"No\")\n",
    "train.loc[:, \"BsmtCond\"] = train.loc[:, \"BsmtCond\"].fillna(\"No\")\n",
    "train.loc[:, \"BsmtExposure\"] = train.loc[:, \"BsmtExposure\"].fillna(\"No\")\n",
    "train.loc[:, \"BsmtFinType1\"] = train.loc[:, \"BsmtFinType1\"].fillna(\"No\")\n",
    "train.loc[:, \"BsmtFinType2\"] = train.loc[:, \"BsmtFinType2\"].fillna(\"No\")\n",
    "train.loc[:, \"BsmtFullBath\"] = train.loc[:, \"BsmtFullBath\"].fillna(0)\n",
    "train.loc[:, \"BsmtHalfBath\"] = train.loc[:, \"BsmtHalfBath\"].fillna(0)\n",
    "train.loc[:, \"BsmtUnfSF\"] = train.loc[:, \"BsmtUnfSF\"].fillna(0)\n",
    "\n",
    "# CentralAir : NA most likely means No\n",
    "train.loc[:, \"CentralAir\"] = train.loc[:, \"CentralAir\"].fillna(\"N\")\n",
    "\n",
    "# Condition : NA most likely means Normal\n",
    "train.loc[:, \"Condition1\"] = train.loc[:, \"Condition1\"].fillna(\"Norm\")\n",
    "train.loc[:, \"Condition2\"] = train.loc[:, \"Condition2\"].fillna(\"Norm\")\n",
    "\n",
    "# EnclosedPorch : NA most likely means no enclosed porch\n",
    "train.loc[:, \"EnclosedPorch\"] = train.loc[:, \"EnclosedPorch\"].fillna(0)\n",
    "\n",
    "# External stuff : NA most likely means average\n",
    "train.loc[:, \"ExterCond\"] = train.loc[:, \"ExterCond\"].fillna(\"TA\")\n",
    "train.loc[:, \"ExterQual\"] = train.loc[:, \"ExterQual\"].fillna(\"TA\")\n",
    "\n",
    "# Fence : data description says NA means \"no fence\"\n",
    "train.loc[:, \"Fence\"] = train.loc[:, \"Fence\"].fillna(\"No\")\n",
    "\n",
    "# FireplaceQu : data description says NA means \"no fireplace\"\n",
    "train.loc[:, \"FireplaceQu\"] = train.loc[:, \"FireplaceQu\"].fillna(\"No\")\n",
    "train.loc[:, \"Fireplaces\"] = train.loc[:, \"Fireplaces\"].fillna(0)\n",
    "\n",
    "# Functional : data description says NA means typical\n",
    "train.loc[:, \"Functional\"] = train.loc[:, \"Functional\"].fillna(\"Typ\")\n",
    "\n",
    "# GarageType etc : data description says NA for garage features is \"no garage\"\n",
    "train.loc[:, \"GarageType\"] = train.loc[:, \"GarageType\"].fillna(\"No\")\n",
    "train.loc[:, \"GarageFinish\"] = train.loc[:, \"GarageFinish\"].fillna(\"No\")\n",
    "train.loc[:, \"GarageQual\"] = train.loc[:, \"GarageQual\"].fillna(\"No\")\n",
    "train.loc[:, \"GarageCond\"] = train.loc[:, \"GarageCond\"].fillna(\"No\")\n",
    "train.loc[:, \"GarageArea\"] = train.loc[:, \"GarageArea\"].fillna(0)\n",
    "train.loc[:, \"GarageCars\"] = train.loc[:, \"GarageCars\"].fillna(0)\n",
    "\n",
    "# HalfBath : NA most likely means no half baths above grade\n",
    "train.loc[:, \"HalfBath\"] = train.loc[:, \"HalfBath\"].fillna(0)\n",
    "\n",
    "# HeatingQC : NA most likely means typical\n",
    "train.loc[:, \"HeatingQC\"] = train.loc[:, \"HeatingQC\"].fillna(\"TA\")\n",
    "\n",
    "# KitchenAbvGr : NA most likely means 0\n",
    "train.loc[:, \"KitchenAbvGr\"] = train.loc[:, \"KitchenAbvGr\"].fillna(0)\n",
    "\n",
    "# KitchenQual : NA most likely means typical\n",
    "train.loc[:, \"KitchenQual\"] = train.loc[:, \"KitchenQual\"].fillna(\"TA\")\n",
    "\n",
    "# LotFrontage : NA most likely means no lot frontage\n",
    "train.loc[:, \"LotFrontage\"] = train.loc[:, \"LotFrontage\"].fillna(0)\n",
    "\n",
    "# LotShape : NA most likely means regular\n",
    "train.loc[:, \"LotShape\"] = train.loc[:, \"LotShape\"].fillna(\"Reg\")\n",
    "\n",
    "# MasVnrType : NA most likely means no veneer\n",
    "train.loc[:, \"MasVnrType\"] = train.loc[:, \"MasVnrType\"].fillna(\"None\")\n",
    "train.loc[:, \"MasVnrArea\"] = train.loc[:, \"MasVnrArea\"].fillna(0)\n",
    "\n",
    "# MiscFeature : data description says NA means \"no misc feature\"\n",
    "train.loc[:, \"MiscFeature\"] = train.loc[:, \"MiscFeature\"].fillna(\"No\")\n",
    "train.loc[:, \"MiscVal\"] = train.loc[:, \"MiscVal\"].fillna(0)\n",
    "\n",
    "# OpenPorchSF : NA most likely means no open porch\n",
    "train.loc[:, \"OpenPorchSF\"] = train.loc[:, \"OpenPorchSF\"].fillna(0)\n",
    "\n",
    "# PavedDrive : NA most likely means not paved\n",
    "train.loc[:, \"PavedDrive\"] = train.loc[:, \"PavedDrive\"].fillna(\"N\")\n",
    "\n",
    "# PoolQC : data description says NA means \"no pool\"\n",
    "train.loc[:, \"PoolQC\"] = train.loc[:, \"PoolQC\"].fillna(\"No\")\n",
    "train.loc[:, \"PoolArea\"] = train.loc[:, \"PoolArea\"].fillna(0)\n",
    "\n",
    "# SaleCondition : NA most likely means normal sale\n",
    "train.loc[:, \"SaleCondition\"] = train.loc[:, \"SaleCondition\"].fillna(\"Normal\")\n",
    "\n",
    "# ScreenPorch : NA most likely means no screen porch\n",
    "train.loc[:, \"ScreenPorch\"] = train.loc[:, \"ScreenPorch\"].fillna(0)\n",
    "\n",
    "# TotRmsAbvGrd : NA most likely means 0\n",
    "train.loc[:, \"TotRmsAbvGrd\"] = train.loc[:, \"TotRmsAbvGrd\"].fillna(0)\n",
    "\n",
    "# Utilities : NA most likely means all public utilities\n",
    "train.loc[:, \"Utilities\"] = train.loc[:, \"Utilities\"].fillna(\"AllPub\")\n",
    "\n",
    "# WoodDeckSF : NA most likely means no wood deck\n",
    "train.loc[:, \"WoodDeckSF\"] = train.loc[:, \"WoodDeckSF\"].fillna(0)"
   ]
  },
  {
   "cell_type": "code",
   "execution_count": 155,
   "id": "3a483037-1d08-4363-825b-4d90701c1672",
   "metadata": {},
   "outputs": [],
   "source": [
    "# Some numerical features are actually really categories\n",
    "train = train.replace({\"MSSubClass\" : {20 : \"SC20\", 30 : \"SC30\", 40 : \"SC40\", 45 : \"SC45\", \n",
    "                                       50 : \"SC50\", 60 : \"SC60\", 70 : \"SC70\", 75 : \"SC75\", \n",
    "                                       80 : \"SC80\", 85 : \"SC85\", 90 : \"SC90\", 120 : \"SC120\", \n",
    "                                       150 : \"SC150\", 160 : \"SC160\", 180 : \"SC180\", 190 : \"SC190\"},\n",
    "                       \"MoSold\" : {1 : \"Jan\", 2 : \"Feb\", 3 : \"Mar\", 4 : \"Apr\", 5 : \"May\", 6 : \"Jun\",\n",
    "                                   7 : \"Jul\", 8 : \"Aug\", 9 : \"Sep\", 10 : \"Oct\", 11 : \"Nov\", 12 : \"Dec\"}\n",
    "                      })"
   ]
  },
  {
   "cell_type": "code",
   "execution_count": 156,
   "id": "02629737-7bf8-4db9-a919-426d06f5b4de",
   "metadata": {},
   "outputs": [],
   "source": [
    "# Encode some categorical features as ordered numbers when there is information in the order\n",
    "train = train.replace({\"Alley\" : {\"Grvl\" : 1, \"Pave\" : 2},\n",
    "                       \"BsmtCond\" : {\"No\" : 0, \"Po\" : 1, \"Fa\" : 2, \"TA\" : 3, \"Gd\" : 4, \"Ex\" : 5},\n",
    "                       \"BsmtExposure\" : {\"No\" : 0, \"Mn\" : 1, \"Av\": 2, \"Gd\" : 3},\n",
    "                       \"BsmtFinType1\" : {\"No\" : 0, \"Unf\" : 1, \"LwQ\": 2, \"Rec\" : 3, \"BLQ\" : 4, \n",
    "                                         \"ALQ\" : 5, \"GLQ\" : 6},\n",
    "                       \"BsmtFinType2\" : {\"No\" : 0, \"Unf\" : 1, \"LwQ\": 2, \"Rec\" : 3, \"BLQ\" : 4, \n",
    "                                         \"ALQ\" : 5, \"GLQ\" : 6},\n",
    "                       \"BsmtQual\" : {\"No\" : 0, \"Po\" : 1, \"Fa\" : 2, \"TA\": 3, \"Gd\" : 4, \"Ex\" : 5},\n",
    "                       \"ExterCond\" : {\"Po\" : 1, \"Fa\" : 2, \"TA\": 3, \"Gd\": 4, \"Ex\" : 5},\n",
    "                       \"ExterQual\" : {\"Po\" : 1, \"Fa\" : 2, \"TA\": 3, \"Gd\": 4, \"Ex\" : 5},\n",
    "                       \"FireplaceQu\" : {\"No\" : 0, \"Po\" : 1, \"Fa\" : 2, \"TA\" : 3, \"Gd\" : 4, \"Ex\" : 5},\n",
    "                       \"Functional\" : {\"Sal\" : 1, \"Sev\" : 2, \"Maj2\" : 3, \"Maj1\" : 4, \"Mod\": 5, \n",
    "                                       \"Min2\" : 6, \"Min1\" : 7, \"Typ\" : 8},\n",
    "                       \"GarageCond\" : {\"No\" : 0, \"Po\" : 1, \"Fa\" : 2, \"TA\" : 3, \"Gd\" : 4, \"Ex\" : 5},\n",
    "                       \"GarageQual\" : {\"No\" : 0, \"Po\" : 1, \"Fa\" : 2, \"TA\" : 3, \"Gd\" : 4, \"Ex\" : 5},\n",
    "                       \"HeatingQC\" : {\"Po\" : 1, \"Fa\" : 2, \"TA\" : 3, \"Gd\" : 4, \"Ex\" : 5},\n",
    "                       \"KitchenQual\" : {\"Po\" : 1, \"Fa\" : 2, \"TA\" : 3, \"Gd\" : 4, \"Ex\" : 5},\n",
    "                       \"LandSlope\" : {\"Sev\" : 1, \"Mod\" : 2, \"Gtl\" : 3},\n",
    "                       \"LotShape\" : {\"IR3\" : 1, \"IR2\" : 2, \"IR1\" : 3, \"Reg\" : 4},\n",
    "                       \"PavedDrive\" : {\"N\" : 0, \"P\" : 1, \"Y\" : 2},\n",
    "                       \"PoolQC\" : {\"No\" : 0, \"Fa\" : 1, \"TA\" : 2, \"Gd\" : 3, \"Ex\" : 4},\n",
    "                       \"Street\" : {\"Grvl\" : 1, \"Pave\" : 2},\n",
    "                       \"Utilities\" : {\"ELO\" : 1, \"NoSeWa\" : 2, \"NoSewr\" : 3, \"AllPub\" : 4}}\n",
    "                     )"
   ]
  },
  {
   "cell_type": "markdown",
   "id": "a0683f4b-f025-4ca2-9db3-7529f33c6204",
   "metadata": {},
   "source": [
    "### Verificar correlação entre features e objetivo"
   ]
  },
  {
   "cell_type": "code",
   "execution_count": 157,
   "id": "e5a26ddc-c0a7-41f5-b41e-9335d64dc597",
   "metadata": {},
   "outputs": [
    {
     "name": "stdout",
     "output_type": "stream",
     "text": [
      "Find most important features relative to target\n",
      "SalePrice        1.000\n",
      "OverallQual      0.819\n",
      "GrLivArea        0.719\n",
      "ExterQual        0.681\n",
      "GarageCars       0.680\n",
      "KitchenQual      0.667\n",
      "GarageArea       0.655\n",
      "TotalBsmtSF      0.642\n",
      "BsmtQual         0.615\n",
      "1stFlrSF         0.614\n",
      "FullBath         0.591\n",
      "YearBuilt        0.589\n",
      "YearRemodAdd     0.569\n",
      "FireplaceQu      0.547\n",
      "GarageYrBlt      0.544\n",
      "TotRmsAbvGrd     0.533\n",
      "Fireplaces       0.487\n",
      "HeatingQC        0.474\n",
      "MasVnrArea       0.426\n",
      "BsmtFinSF1       0.383\n",
      "GarageQual       0.365\n",
      "GarageCond       0.359\n",
      "BsmtExposure     0.333\n",
      "BsmtFinType1     0.333\n",
      "WoodDeckSF       0.331\n",
      "OpenPorchSF      0.327\n",
      "HalfBath         0.311\n",
      "2ndFlrSF         0.307\n",
      "PavedDrive       0.306\n",
      "BsmtCond         0.277\n",
      "LotArea          0.259\n",
      "BsmtFullBath     0.239\n",
      "BsmtUnfSF        0.223\n",
      "BedroomAbvGr     0.204\n",
      "LotFrontage      0.174\n",
      "Functional       0.136\n",
      "ScreenPorch      0.124\n",
      "Street           0.058\n",
      "3SsnPorch        0.056\n",
      "ExterCond        0.051\n",
      "PoolArea         0.041\n",
      "PoolQC           0.038\n",
      "BsmtFinType2     0.016\n",
      "Utilities        0.013\n",
      "BsmtFinSF2       0.006\n",
      "BsmtHalfBath    -0.015\n",
      "MiscVal         -0.020\n",
      "YrSold          -0.034\n",
      "OverallCond     -0.037\n",
      "LowQualFinSF    -0.038\n",
      "LandSlope       -0.040\n",
      "KitchenAbvGr    -0.148\n",
      "EnclosedPorch   -0.149\n",
      "LotShape        -0.286\n",
      "Name: SalePrice, dtype: float64\n"
     ]
    }
   ],
   "source": [
    "# Encontrar as features mais importantes em relação ao objetivo:\n",
    "print(\"Find most important features relative to target\")\n",
    "corr = train.corr()\n",
    "corr.sort_values([\"SalePrice\"], ascending = False, inplace = True)\n",
    "print(corr.SalePrice)"
   ]
  },
  {
   "cell_type": "markdown",
   "id": "2f188df8-5db6-4c73-a544-2c9eca869412",
   "metadata": {},
   "source": [
    "### Retirar o y, separar features numéricas, categóricas e corrigir missing values restantes"
   ]
  },
  {
   "cell_type": "code",
   "execution_count": 158,
   "id": "bdea1363-4270-4e01-acbe-9ac7fad0ade5",
   "metadata": {},
   "outputs": [
    {
     "name": "stdout",
     "output_type": "stream",
     "text": [
      "Numerical features : 53\n",
      "Categorical features : 26\n"
     ]
    }
   ],
   "source": [
    "# Differentiate numerical features (minus the target) and categorical features\n",
    "categorical_features = train.select_dtypes(include = [\"object\"]).columns\n",
    "numerical_features = train.select_dtypes(exclude = [\"object\"]).columns\n",
    "numerical_features = numerical_features.drop(\"SalePrice\")\n",
    "print(\"Numerical features : \" + str(len(numerical_features)))\n",
    "print(\"Categorical features : \" + str(len(categorical_features)))\n",
    "train_num = train[numerical_features]\n",
    "train_cat = train[categorical_features]"
   ]
  },
  {
   "cell_type": "code",
   "execution_count": 159,
   "id": "5adcd2e0-601b-48b8-8ed5-5b659f5fb688",
   "metadata": {},
   "outputs": [
    {
     "name": "stdout",
     "output_type": "stream",
     "text": [
      "NAs for numerical features in train : 81\n",
      "Remaining NAs for numerical features in train : 0\n"
     ]
    }
   ],
   "source": [
    "# Handle remaining missing values for numerical features by using median as replacement\n",
    "print(\"NAs for numerical features in train : \" + str(train_num.isnull().values.sum()))\n",
    "train_num = train_num.fillna(train_num.median())\n",
    "print(\"Remaining NAs for numerical features in train : \" + str(train_num.isnull().values.sum()))"
   ]
  },
  {
   "cell_type": "markdown",
   "id": "0f5b7d50-deef-4b4f-b413-0528544bf4ce",
   "metadata": {},
   "source": [
    "### Corrigir assimetrias, aplicar One-Hot encoding e unificar o dataset de treino"
   ]
  },
  {
   "cell_type": "code",
   "execution_count": 160,
   "id": "006c1838-c55f-4237-bb8c-ccd82dfe953d",
   "metadata": {},
   "outputs": [
    {
     "name": "stdout",
     "output_type": "stream",
     "text": [
      "32 skewed numerical features to log transform\n"
     ]
    }
   ],
   "source": [
    "# Inspired by Alexandru Papiu's script : https://www.kaggle.com/apapiu/house-prices-advanced-regression-techniques/regularized-linear-models\n",
    "skewness = train_num.apply(lambda x: skew(x))\n",
    "skewness = skewness[abs(skewness) > 0.75]\n",
    "print(str(skewness.shape[0]) + \" skewed numerical features to log transform\")\n",
    "skewed_features = skewness.index\n",
    "train_num[skewed_features] = np.log1p(train_num[skewed_features])"
   ]
  },
  {
   "cell_type": "code",
   "execution_count": 161,
   "id": "98396ba8-9de6-49bf-916a-5f363caa5649",
   "metadata": {},
   "outputs": [
    {
     "name": "stdout",
     "output_type": "stream",
     "text": [
      "NAs for categorical features in train : 1\n",
      "Remaining NAs for categorical features in train : 0\n"
     ]
    }
   ],
   "source": [
    "# Create dummy features for categorical values via one-hot encoding\n",
    "print(\"NAs for categorical features in train : \" + str(train_cat.isnull().values.sum()))\n",
    "train_cat = pd.get_dummies(train_cat)\n",
    "print(\"Remaining NAs for categorical features in train : \" + str(train_cat.isnull().values.sum()))"
   ]
  },
  {
   "cell_type": "code",
   "execution_count": 162,
   "id": "8bb9a95c-926e-465f-935d-752180173f9d",
   "metadata": {},
   "outputs": [],
   "source": [
    "# Join categorical and numerical features\n",
    "train = pd.concat([train_num, train_cat], axis = 1)"
   ]
  },
  {
   "cell_type": "markdown",
   "id": "1f97dc68-3dea-46f1-b327-9d96aa218675",
   "metadata": {
    "tags": []
   },
   "source": [
    "## Carregar dados de teste e aplicar os mesmos passos de limpeza.\n",
    "O dataset de teste foi pré-processado, separadamente, com os mesmos passos do dataset de treino, excluindo a correção de assimetrias."
   ]
  },
  {
   "cell_type": "code",
   "execution_count": 163,
   "id": "bf7f2e06-2e6b-4b08-a5ef-fbb7db808c6c",
   "metadata": {},
   "outputs": [
    {
     "name": "stdout",
     "output_type": "stream",
     "text": [
      "Test shape: (1459, 243)\n",
      "Train shape: (1456, 255)\n"
     ]
    }
   ],
   "source": [
    "# Carregar dados de teste pré-processados e sem features simplificadas\n",
    "test = pd.read_csv('id_processed_less_columns_test.csv')\n",
    "print(f'Test shape: {test.shape}')\n",
    "print(f'Train shape: {train.shape}')\n",
    "#test.head()"
   ]
  },
  {
   "cell_type": "markdown",
   "id": "674cc025-b6e9-4690-92cf-5e56cd6b21d4",
   "metadata": {},
   "source": [
    "### Salvar Id's"
   ]
  },
  {
   "cell_type": "code",
   "execution_count": 164,
   "id": "e68cf562-e519-4d78-930f-29dd6c5bbfe8",
   "metadata": {},
   "outputs": [],
   "source": [
    "test_ids = test.Id.copy()\n",
    "test.drop(['Id'],axis=1,inplace=True)"
   ]
  },
  {
   "cell_type": "code",
   "execution_count": 165,
   "id": "ef078d04-6b6e-4795-b104-071171b12610",
   "metadata": {},
   "outputs": [
    {
     "name": "stdout",
     "output_type": "stream",
     "text": [
      "Test Numerical features : 242\n",
      "Test Categorical features : 0\n"
     ]
    }
   ],
   "source": [
    "# Separar numéricas e categóricas do test e verificar assimetrias\n",
    "test_categorical_features = test.select_dtypes(include = [\"object\"]).columns\n",
    "test_numerical_features = test.select_dtypes(exclude = [\"object\"]).columns\n",
    "print(\"Test Numerical features : \" + str(len(test_numerical_features)))\n",
    "print(\"Test Categorical features : \" + str(len(test_categorical_features)))\n",
    "test_num = test[test_numerical_features]\n",
    "test_cat = test[test_categorical_features]"
   ]
  },
  {
   "cell_type": "code",
   "execution_count": 166,
   "id": "a0e62602-55fc-42cf-96f8-3710b05eecdf",
   "metadata": {},
   "outputs": [
    {
     "name": "stdout",
     "output_type": "stream",
     "text": [
      "214 skewed numerical features to log transform\n"
     ]
    }
   ],
   "source": [
    "skewness = test_num.apply(lambda x: skew(x))\n",
    "skewness = skewness[abs(skewness) > 0.75]\n",
    "print(str(skewness.shape[0]) + \" skewed numerical features to log transform\")\n",
    "skewed_features = skewness.index\n",
    "test_num[skewed_features] = np.log1p(test_num[skewed_features])"
   ]
  },
  {
   "cell_type": "code",
   "execution_count": 167,
   "id": "3e831d57-5d29-4c9d-bf75-073070190326",
   "metadata": {},
   "outputs": [
    {
     "name": "stdout",
     "output_type": "stream",
     "text": [
      "NAs for categorical features in train : 0\n",
      "Remaining NAs for categorical features in train : 0\n"
     ]
    }
   ],
   "source": [
    "# Create dummy features for categorical values via one-hot encoding\n",
    "print(\"NAs for categorical features in train : \" + str(train_cat.isnull().values.sum()))\n",
    "train_cat = pd.get_dummies(train_cat)\n",
    "print(\"Remaining NAs for categorical features in train : \" + str(train_cat.isnull().values.sum()))"
   ]
  },
  {
   "cell_type": "code",
   "execution_count": 168,
   "id": "574c6fd2-58e7-47ad-afdd-f81891a6205a",
   "metadata": {},
   "outputs": [],
   "source": [
    "# Join test categorical and numerical features\n",
    "test = pd.concat([test_num, test_cat], axis = 1)"
   ]
  },
  {
   "cell_type": "markdown",
   "id": "4ff8eb58-bd0f-4197-8194-b75453ac9b32",
   "metadata": {},
   "source": [
    "## Verificar colunas dos dois datasets e manter somente as comuns."
   ]
  },
  {
   "cell_type": "code",
   "execution_count": 169,
   "id": "7b007b8f-3dbf-4954-989b-9cf9e0c7b3ed",
   "metadata": {},
   "outputs": [
    {
     "name": "stdout",
     "output_type": "stream",
     "text": [
      "Test: ['LotFrontage', 'LotArea', 'Street', 'LotShape', 'Utilities', 'LandSlope', 'OverallQual', 'OverallCond', 'YearBuilt', 'YearRemodAdd', 'MasVnrArea', 'ExterQual', 'ExterCond', 'BsmtQual', 'BsmtCond', 'BsmtExposure', 'BsmtFinType1', 'BsmtFinSF1', 'BsmtFinType2', 'BsmtFinSF2', 'BsmtUnfSF', 'TotalBsmtSF', 'HeatingQC', '1stFlrSF', '2ndFlrSF', 'LowQualFinSF', 'GrLivArea', 'BsmtFullBath', 'BsmtHalfBath', 'FullBath', 'HalfBath', 'BedroomAbvGr', 'KitchenAbvGr', 'KitchenQual', 'TotRmsAbvGrd', 'Functional', 'Fireplaces', 'FireplaceQu', 'GarageYrBlt', 'GarageCars', 'GarageArea', 'GarageQual', 'GarageCond', 'PavedDrive', 'WoodDeckSF', 'OpenPorchSF', 'EnclosedPorch', '3SsnPorch', 'ScreenPorch', 'PoolArea', 'PoolQC', 'MiscVal', 'YrSold', 'MSSubClass_SC120', 'MSSubClass_SC160', 'MSSubClass_SC180', 'MSSubClass_SC190', 'MSSubClass_SC20', 'MSSubClass_SC30', 'MSSubClass_SC40', 'MSSubClass_SC45', 'MSSubClass_SC50', 'MSSubClass_SC60', 'MSSubClass_SC70', 'MSSubClass_SC75', 'MSSubClass_SC80', 'MSSubClass_SC85', 'MSSubClass_SC90', 'MSZoning_C (all)', 'MSZoning_FV', 'MSZoning_RH', 'MSZoning_RL', 'MSZoning_RM', 'Alley_1', 'Alley_2', 'Alley_None', 'LandContour_Bnk', 'LandContour_HLS', 'LandContour_Low', 'LandContour_Lvl', 'LotConfig_Corner', 'LotConfig_CulDSac', 'LotConfig_FR2', 'LotConfig_FR3', 'LotConfig_Inside', 'Neighborhood_Blmngtn', 'Neighborhood_Blueste', 'Neighborhood_BrDale', 'Neighborhood_BrkSide', 'Neighborhood_ClearCr', 'Neighborhood_CollgCr', 'Neighborhood_Crawfor', 'Neighborhood_Edwards', 'Neighborhood_Gilbert', 'Neighborhood_IDOTRR', 'Neighborhood_MeadowV', 'Neighborhood_Mitchel', 'Neighborhood_NAmes', 'Neighborhood_NPkVill', 'Neighborhood_NWAmes', 'Neighborhood_NoRidge', 'Neighborhood_NridgHt', 'Neighborhood_OldTown', 'Neighborhood_SWISU', 'Neighborhood_Sawyer', 'Neighborhood_SawyerW', 'Neighborhood_Somerst', 'Neighborhood_StoneBr', 'Neighborhood_Timber', 'Neighborhood_Veenker', 'Condition1_Artery', 'Condition1_Feedr', 'Condition1_Norm', 'Condition1_PosA', 'Condition1_PosN', 'Condition1_RRAe', 'Condition1_RRAn', 'Condition1_RRNe', 'Condition1_RRNn', 'Condition2_Artery', 'Condition2_Feedr', 'Condition2_Norm', 'Condition2_PosA', 'Condition2_PosN', 'BldgType_1Fam', 'BldgType_2fmCon', 'BldgType_Duplex', 'BldgType_Twnhs', 'BldgType_TwnhsE', 'HouseStyle_1.5Fin', 'HouseStyle_1.5Unf', 'HouseStyle_1Story', 'HouseStyle_2.5Unf', 'HouseStyle_2Story', 'HouseStyle_SFoyer', 'HouseStyle_SLvl', 'RoofStyle_Flat', 'RoofStyle_Gable', 'RoofStyle_Gambrel', 'RoofStyle_Hip', 'RoofStyle_Mansard', 'RoofStyle_Shed', 'RoofMatl_CompShg', 'RoofMatl_Tar&Grv', 'RoofMatl_WdShake', 'RoofMatl_WdShngl', 'Exterior1st_AsbShng', 'Exterior1st_AsphShn', 'Exterior1st_BrkComm', 'Exterior1st_BrkFace', 'Exterior1st_CBlock', 'Exterior1st_CemntBd', 'Exterior1st_HdBoard', 'Exterior1st_MetalSd', 'Exterior1st_Plywood', 'Exterior1st_Stucco', 'Exterior1st_VinylSd', 'Exterior1st_Wd Sdng', 'Exterior1st_WdShing', 'Exterior2nd_AsbShng', 'Exterior2nd_AsphShn', 'Exterior2nd_Brk Cmn', 'Exterior2nd_BrkFace', 'Exterior2nd_CBlock', 'Exterior2nd_CmentBd', 'Exterior2nd_HdBoard', 'Exterior2nd_ImStucc', 'Exterior2nd_MetalSd', 'Exterior2nd_Plywood', 'Exterior2nd_Stone', 'Exterior2nd_Stucco', 'Exterior2nd_VinylSd', 'Exterior2nd_Wd Sdng', 'Exterior2nd_Wd Shng', 'MasVnrType_BrkCmn', 'MasVnrType_BrkFace', 'MasVnrType_None', 'MasVnrType_Stone', 'Foundation_BrkTil', 'Foundation_CBlock', 'Foundation_PConc', 'Foundation_Slab', 'Foundation_Stone', 'Foundation_Wood', 'Heating_GasA', 'Heating_GasW', 'Heating_Grav', 'Heating_Wall', 'CentralAir_N', 'CentralAir_Y', 'Electrical_FuseA', 'Electrical_FuseF', 'Electrical_FuseP', 'Electrical_SBrkr', 'GarageType_2Types', 'GarageType_Attchd', 'GarageType_Basment', 'GarageType_BuiltIn', 'GarageType_CarPort', 'GarageType_Detchd', 'GarageType_No', 'GarageFinish_Fin', 'GarageFinish_No', 'GarageFinish_RFn', 'GarageFinish_Unf', 'Fence_GdPrv', 'Fence_GdWo', 'Fence_MnPrv', 'Fence_MnWw', 'Fence_No', 'MiscFeature_Gar2', 'MiscFeature_No', 'MiscFeature_Othr', 'MiscFeature_Shed', 'MoSold_Apr', 'MoSold_Aug', 'MoSold_Dec', 'MoSold_Feb', 'MoSold_Jan', 'MoSold_Jul', 'MoSold_Jun', 'MoSold_Mar', 'MoSold_May', 'MoSold_Nov', 'MoSold_Oct', 'MoSold_Sep', 'SaleType_COD', 'SaleType_CWD', 'SaleType_Con', 'SaleType_ConLD', 'SaleType_ConLI', 'SaleType_ConLw', 'SaleType_New', 'SaleType_Oth', 'SaleType_WD', 'SaleCondition_Abnorml', 'SaleCondition_AdjLand', 'SaleCondition_Alloca', 'SaleCondition_Family', 'SaleCondition_Normal', 'SaleCondition_Partial']\n"
     ]
    }
   ],
   "source": [
    "# Verificar quais colunas são comuns aos dois datasets e descartar o restante\n",
    "intersec = train.columns.intersection(test.columns)\n",
    "print(f'Test: {intersec.tolist()}')"
   ]
  },
  {
   "cell_type": "code",
   "execution_count": 170,
   "id": "bbddde73-9d30-49ad-8b91-e594cb1c0a5e",
   "metadata": {},
   "outputs": [],
   "source": [
    "# Guardar as colunas comuns\n",
    "match_columns = ['LotFrontage', 'LotArea', 'Street', 'LotShape', 'Utilities', 'LandSlope', 'OverallQual', 'OverallCond',\n",
    "                 'YearBuilt', 'YearRemodAdd', 'MasVnrArea', 'ExterQual', 'ExterCond', 'BsmtQual', 'BsmtCond', 'BsmtExposure',\n",
    "                 'BsmtFinType1', 'BsmtFinSF1', 'BsmtFinType2', 'BsmtFinSF2', 'BsmtUnfSF', 'TotalBsmtSF', 'HeatingQC',\n",
    "                 '1stFlrSF', '2ndFlrSF', 'LowQualFinSF', 'GrLivArea', 'BsmtFullBath', 'BsmtHalfBath', 'FullBath', 'HalfBath',\n",
    "                 'BedroomAbvGr', 'KitchenAbvGr', 'KitchenQual', 'TotRmsAbvGrd', 'Functional', 'Fireplaces', 'FireplaceQu',\n",
    "                 'GarageYrBlt', 'GarageCars', 'GarageArea', 'GarageQual', 'GarageCond', 'PavedDrive', 'WoodDeckSF',\n",
    "                 'OpenPorchSF', 'EnclosedPorch', '3SsnPorch', 'ScreenPorch', 'PoolArea', 'PoolQC', 'MiscVal', 'YrSold',\n",
    "                 'MSSubClass_SC120', 'MSSubClass_SC160', 'MSSubClass_SC180', 'MSSubClass_SC190', 'MSSubClass_SC20',\n",
    "                 'MSSubClass_SC30', 'MSSubClass_SC40', 'MSSubClass_SC45', 'MSSubClass_SC50', 'MSSubClass_SC60',\n",
    "                 'MSSubClass_SC70', 'MSSubClass_SC75', 'MSSubClass_SC80', 'MSSubClass_SC85', 'MSSubClass_SC90',\n",
    "                 'MSZoning_C (all)', 'MSZoning_FV', 'MSZoning_RH', 'MSZoning_RL', 'MSZoning_RM', 'Alley_1', 'Alley_2',\n",
    "                 'Alley_None', 'LandContour_Bnk', 'LandContour_HLS', 'LandContour_Low', 'LandContour_Lvl',\n",
    "                 'LotConfig_Corner', 'LotConfig_CulDSac', 'LotConfig_FR2', 'LotConfig_FR3', 'LotConfig_Inside',\n",
    "                 'Neighborhood_Blmngtn', 'Neighborhood_Blueste', 'Neighborhood_BrDale', 'Neighborhood_BrkSide',\n",
    "                 'Neighborhood_ClearCr', 'Neighborhood_CollgCr', 'Neighborhood_Crawfor', 'Neighborhood_Edwards',\n",
    "                 'Neighborhood_Gilbert', 'Neighborhood_IDOTRR', 'Neighborhood_MeadowV', 'Neighborhood_Mitchel',\n",
    "                 'Neighborhood_NAmes', 'Neighborhood_NPkVill', 'Neighborhood_NWAmes', 'Neighborhood_NoRidge',\n",
    "                 'Neighborhood_NridgHt', 'Neighborhood_OldTown', 'Neighborhood_SWISU', 'Neighborhood_Sawyer',\n",
    "                 'Neighborhood_SawyerW', 'Neighborhood_Somerst', 'Neighborhood_StoneBr', 'Neighborhood_Timber',\n",
    "                 'Neighborhood_Veenker', 'Condition1_Artery', 'Condition1_Feedr', 'Condition1_Norm', 'Condition1_PosA',\n",
    "                 'Condition1_PosN', 'Condition1_RRAe', 'Condition1_RRAn', 'Condition1_RRNe', 'Condition1_RRNn',\n",
    "                 'Condition2_Artery', 'Condition2_Feedr', 'Condition2_Norm', 'Condition2_PosA', 'Condition2_PosN',\n",
    "                 'BldgType_1Fam', 'BldgType_2fmCon', 'BldgType_Duplex', 'BldgType_Twnhs', 'BldgType_TwnhsE',\n",
    "                 'HouseStyle_1.5Fin', 'HouseStyle_1.5Unf', 'HouseStyle_1Story', 'HouseStyle_2.5Unf', 'HouseStyle_2Story',\n",
    "                 'HouseStyle_SFoyer', 'HouseStyle_SLvl', 'RoofStyle_Flat', 'RoofStyle_Gable', 'RoofStyle_Gambrel',\n",
    "                 'RoofStyle_Hip', 'RoofStyle_Mansard', 'RoofStyle_Shed', 'RoofMatl_CompShg', 'RoofMatl_Tar&Grv',\n",
    "                 'RoofMatl_WdShake', 'RoofMatl_WdShngl', 'Exterior1st_AsbShng', 'Exterior1st_AsphShn', 'Exterior1st_BrkComm',\n",
    "                 'Exterior1st_BrkFace', 'Exterior1st_CBlock', 'Exterior1st_CemntBd', 'Exterior1st_HdBoard',\n",
    "                 'Exterior1st_MetalSd', 'Exterior1st_Plywood', 'Exterior1st_Stucco', 'Exterior1st_VinylSd',\n",
    "                 'Exterior1st_Wd Sdng', 'Exterior1st_WdShing', 'Exterior2nd_AsbShng', 'Exterior2nd_AsphShn',\n",
    "                 'Exterior2nd_Brk Cmn', 'Exterior2nd_BrkFace', 'Exterior2nd_CBlock', 'Exterior2nd_CmentBd',\n",
    "                 'Exterior2nd_HdBoard', 'Exterior2nd_ImStucc', 'Exterior2nd_MetalSd', 'Exterior2nd_Plywood',\n",
    "                 'Exterior2nd_Stone', 'Exterior2nd_Stucco', 'Exterior2nd_VinylSd', 'Exterior2nd_Wd Sdng',\n",
    "                 'Exterior2nd_Wd Shng', 'MasVnrType_BrkCmn', 'MasVnrType_BrkFace', 'MasVnrType_None', 'MasVnrType_Stone',\n",
    "                 'Foundation_BrkTil', 'Foundation_CBlock', 'Foundation_PConc', 'Foundation_Slab', 'Foundation_Stone',\n",
    "                 'Foundation_Wood', 'Heating_GasA', 'Heating_GasW', 'Heating_Grav', 'Heating_Wall', 'CentralAir_N',\n",
    "                 'CentralAir_Y', 'Electrical_FuseA', 'Electrical_FuseF', 'Electrical_FuseP', 'Electrical_SBrkr',\n",
    "                 'GarageType_2Types', 'GarageType_Attchd', 'GarageType_Basment', 'GarageType_BuiltIn', 'GarageType_CarPort',\n",
    "                 'GarageType_Detchd', 'GarageType_No', 'GarageFinish_Fin', 'GarageFinish_No', 'GarageFinish_RFn', 'GarageFinish_Unf',\n",
    "                 'Fence_GdPrv', 'Fence_GdWo', 'Fence_MnPrv', 'Fence_MnWw', 'Fence_No', 'MiscFeature_Gar2', 'MiscFeature_No',\n",
    "                 'MiscFeature_Othr', 'MiscFeature_Shed', 'MoSold_Apr', 'MoSold_Aug', 'MoSold_Dec', 'MoSold_Feb', 'MoSold_Jan',\n",
    "                 'MoSold_Jul', 'MoSold_Jun', 'MoSold_Mar', 'MoSold_May', 'MoSold_Nov', 'MoSold_Oct', 'MoSold_Sep',\n",
    "                 'SaleType_COD', 'SaleType_CWD', 'SaleType_Con', 'SaleType_ConLD', 'SaleType_ConLI', 'SaleType_ConLw',\n",
    "                 'SaleType_New', 'SaleType_Oth', 'SaleType_WD', 'SaleCondition_Abnorml', 'SaleCondition_AdjLand',\n",
    "                 'SaleCondition_Alloca', 'SaleCondition_Family', 'SaleCondition_Normal', 'SaleCondition_Partial']"
   ]
  },
  {
   "cell_type": "code",
   "execution_count": 171,
   "id": "288679a1-d989-4c88-b3b3-9d3b700bcb3b",
   "metadata": {},
   "outputs": [
    {
     "data": {
      "text/html": [
       "<div>\n",
       "<style scoped>\n",
       "    .dataframe tbody tr th:only-of-type {\n",
       "        vertical-align: middle;\n",
       "    }\n",
       "\n",
       "    .dataframe tbody tr th {\n",
       "        vertical-align: top;\n",
       "    }\n",
       "\n",
       "    .dataframe thead th {\n",
       "        text-align: right;\n",
       "    }\n",
       "</style>\n",
       "<table border=\"1\" class=\"dataframe\">\n",
       "  <thead>\n",
       "    <tr style=\"text-align: right;\">\n",
       "      <th></th>\n",
       "      <th>LotFrontage</th>\n",
       "      <th>LotArea</th>\n",
       "      <th>Street</th>\n",
       "      <th>LotShape</th>\n",
       "      <th>Utilities</th>\n",
       "      <th>LandSlope</th>\n",
       "      <th>OverallQual</th>\n",
       "      <th>OverallCond</th>\n",
       "      <th>YearBuilt</th>\n",
       "      <th>YearRemodAdd</th>\n",
       "      <th>...</th>\n",
       "      <th>SaleType_ConLw</th>\n",
       "      <th>SaleType_New</th>\n",
       "      <th>SaleType_Oth</th>\n",
       "      <th>SaleType_WD</th>\n",
       "      <th>SaleCondition_Abnorml</th>\n",
       "      <th>SaleCondition_AdjLand</th>\n",
       "      <th>SaleCondition_Alloca</th>\n",
       "      <th>SaleCondition_Family</th>\n",
       "      <th>SaleCondition_Normal</th>\n",
       "      <th>SaleCondition_Partial</th>\n",
       "    </tr>\n",
       "  </thead>\n",
       "  <tbody>\n",
       "    <tr>\n",
       "      <th>0</th>\n",
       "      <td>65.000</td>\n",
       "      <td>9.042</td>\n",
       "      <td>1.099</td>\n",
       "      <td>1.609</td>\n",
       "      <td>1.609</td>\n",
       "      <td>1.386</td>\n",
       "      <td>7</td>\n",
       "      <td>5</td>\n",
       "      <td>2003</td>\n",
       "      <td>2003</td>\n",
       "      <td>...</td>\n",
       "      <td>0</td>\n",
       "      <td>0</td>\n",
       "      <td>0</td>\n",
       "      <td>1</td>\n",
       "      <td>0</td>\n",
       "      <td>0</td>\n",
       "      <td>0</td>\n",
       "      <td>0</td>\n",
       "      <td>1</td>\n",
       "      <td>0</td>\n",
       "    </tr>\n",
       "    <tr>\n",
       "      <th>1</th>\n",
       "      <td>80.000</td>\n",
       "      <td>9.170</td>\n",
       "      <td>1.099</td>\n",
       "      <td>1.609</td>\n",
       "      <td>1.609</td>\n",
       "      <td>1.386</td>\n",
       "      <td>6</td>\n",
       "      <td>8</td>\n",
       "      <td>1976</td>\n",
       "      <td>1976</td>\n",
       "      <td>...</td>\n",
       "      <td>0</td>\n",
       "      <td>0</td>\n",
       "      <td>0</td>\n",
       "      <td>1</td>\n",
       "      <td>0</td>\n",
       "      <td>0</td>\n",
       "      <td>0</td>\n",
       "      <td>0</td>\n",
       "      <td>1</td>\n",
       "      <td>0</td>\n",
       "    </tr>\n",
       "    <tr>\n",
       "      <th>2</th>\n",
       "      <td>68.000</td>\n",
       "      <td>9.328</td>\n",
       "      <td>1.099</td>\n",
       "      <td>1.386</td>\n",
       "      <td>1.609</td>\n",
       "      <td>1.386</td>\n",
       "      <td>7</td>\n",
       "      <td>5</td>\n",
       "      <td>2001</td>\n",
       "      <td>2002</td>\n",
       "      <td>...</td>\n",
       "      <td>0</td>\n",
       "      <td>0</td>\n",
       "      <td>0</td>\n",
       "      <td>1</td>\n",
       "      <td>0</td>\n",
       "      <td>0</td>\n",
       "      <td>0</td>\n",
       "      <td>0</td>\n",
       "      <td>1</td>\n",
       "      <td>0</td>\n",
       "    </tr>\n",
       "    <tr>\n",
       "      <th>3</th>\n",
       "      <td>60.000</td>\n",
       "      <td>9.164</td>\n",
       "      <td>1.099</td>\n",
       "      <td>1.386</td>\n",
       "      <td>1.609</td>\n",
       "      <td>1.386</td>\n",
       "      <td>7</td>\n",
       "      <td>5</td>\n",
       "      <td>1915</td>\n",
       "      <td>1970</td>\n",
       "      <td>...</td>\n",
       "      <td>0</td>\n",
       "      <td>0</td>\n",
       "      <td>0</td>\n",
       "      <td>1</td>\n",
       "      <td>1</td>\n",
       "      <td>0</td>\n",
       "      <td>0</td>\n",
       "      <td>0</td>\n",
       "      <td>0</td>\n",
       "      <td>0</td>\n",
       "    </tr>\n",
       "    <tr>\n",
       "      <th>4</th>\n",
       "      <td>84.000</td>\n",
       "      <td>9.565</td>\n",
       "      <td>1.099</td>\n",
       "      <td>1.386</td>\n",
       "      <td>1.609</td>\n",
       "      <td>1.386</td>\n",
       "      <td>8</td>\n",
       "      <td>5</td>\n",
       "      <td>2000</td>\n",
       "      <td>2000</td>\n",
       "      <td>...</td>\n",
       "      <td>0</td>\n",
       "      <td>0</td>\n",
       "      <td>0</td>\n",
       "      <td>1</td>\n",
       "      <td>0</td>\n",
       "      <td>0</td>\n",
       "      <td>0</td>\n",
       "      <td>0</td>\n",
       "      <td>1</td>\n",
       "      <td>0</td>\n",
       "    </tr>\n",
       "  </tbody>\n",
       "</table>\n",
       "<p>5 rows × 241 columns</p>\n",
       "</div>"
      ],
      "text/plain": [
       "   LotFrontage  LotArea  Street  LotShape  Utilities  LandSlope  OverallQual  \\\n",
       "0       65.000    9.042   1.099     1.609      1.609      1.386            7   \n",
       "1       80.000    9.170   1.099     1.609      1.609      1.386            6   \n",
       "2       68.000    9.328   1.099     1.386      1.609      1.386            7   \n",
       "3       60.000    9.164   1.099     1.386      1.609      1.386            7   \n",
       "4       84.000    9.565   1.099     1.386      1.609      1.386            8   \n",
       "\n",
       "   OverallCond  YearBuilt  YearRemodAdd  ...  SaleType_ConLw  SaleType_New  \\\n",
       "0            5       2003          2003  ...               0             0   \n",
       "1            8       1976          1976  ...               0             0   \n",
       "2            5       2001          2002  ...               0             0   \n",
       "3            5       1915          1970  ...               0             0   \n",
       "4            5       2000          2000  ...               0             0   \n",
       "\n",
       "   SaleType_Oth  SaleType_WD  SaleCondition_Abnorml  SaleCondition_AdjLand  \\\n",
       "0             0            1                      0                      0   \n",
       "1             0            1                      0                      0   \n",
       "2             0            1                      0                      0   \n",
       "3             0            1                      1                      0   \n",
       "4             0            1                      0                      0   \n",
       "\n",
       "   SaleCondition_Alloca  SaleCondition_Family  SaleCondition_Normal  \\\n",
       "0                     0                     0                     1   \n",
       "1                     0                     0                     1   \n",
       "2                     0                     0                     1   \n",
       "3                     0                     0                     0   \n",
       "4                     0                     0                     1   \n",
       "\n",
       "   SaleCondition_Partial  \n",
       "0                      0  \n",
       "1                      0  \n",
       "2                      0  \n",
       "3                      0  \n",
       "4                      0  \n",
       "\n",
       "[5 rows x 241 columns]"
      ]
     },
     "execution_count": 171,
     "metadata": {},
     "output_type": "execute_result"
    }
   ],
   "source": [
    "train_match = train[match_columns].copy()\n",
    "test_match = test[match_columns].copy()\n",
    "#train_match['SalePrice'] = train.SalePrice\n",
    "train_match.head()"
   ]
  },
  {
   "cell_type": "code",
   "execution_count": 172,
   "id": "89259d98-bcaa-4e0b-9598-5e9004a52a00",
   "metadata": {},
   "outputs": [
    {
     "name": "stdout",
     "output_type": "stream",
     "text": [
      "Numerical features : 241\n",
      "Categorical features : 0\n"
     ]
    }
   ],
   "source": [
    "categorical_features = train_match.select_dtypes(include = [\"object\"]).columns\n",
    "numerical_features = train_match.select_dtypes(exclude = [\"object\"]).columns\n",
    "test_categorical_features = test_match.select_dtypes(include = [\"object\"]).columns\n",
    "test_numerical_features = test_match.select_dtypes(exclude = [\"object\"]).columns\n",
    "print(\"Numerical features : \" + str(len(numerical_features)))\n",
    "print(\"Categorical features : \" + str(len(categorical_features)))"
   ]
  },
  {
   "cell_type": "code",
   "execution_count": 173,
   "id": "0a27eb32-bb9a-4349-bc57-1d6f7e847345",
   "metadata": {},
   "outputs": [
    {
     "data": {
      "text/plain": [
       "(1459, 241)"
      ]
     },
     "execution_count": 173,
     "metadata": {},
     "output_type": "execute_result"
    }
   ],
   "source": [
    "test_match.shape"
   ]
  },
  {
   "cell_type": "markdown",
   "id": "a4f6e388-c5cb-4f11-a1d7-9fd238de61da",
   "metadata": {},
   "source": [
    "### Divisão do train_test_split"
   ]
  },
  {
   "cell_type": "code",
   "execution_count": 174,
   "id": "7a3d4ab0-35ab-468e-93c2-9b223cb7d052",
   "metadata": {},
   "outputs": [],
   "source": [
    "# Partition the dataset in train + validation sets\n",
    "#y_train, y_test, X_train, X_test = train_test_split(y, train_match, test_size = 0.2, random_state = 0)\n",
    "#print(\"X_train : \" + str(X_train.shape))\n",
    "#print(\"X_test : \" + str(X_test.shape))\n",
    "#print(\"y_train : \" + str(y_train.shape))\n",
    "#print(\"y_test : \" + str(y_test.shape))"
   ]
  },
  {
   "cell_type": "markdown",
   "id": "bcabff83-0fce-4236-891e-7fa84d8244ae",
   "metadata": {},
   "source": [
    "### Standarize as features numéricas"
   ]
  },
  {
   "cell_type": "code",
   "execution_count": 175,
   "id": "81f26c99-d017-4bb2-9f20-99a3e42fbfba",
   "metadata": {},
   "outputs": [],
   "source": [
    "# Standardize numerical features\n",
    "#stdSc = StandardScaler()\n",
    "#X_train.loc[:, numerical_features] = stdSc.fit_transform(X_train.loc[:, numerical_features])\n",
    "#X_test.loc[:, numerical_features] = stdSc.transform(X_test.loc[:, numerical_features])\n",
    "#test_match.loc[:, test_numerical_features] = stdSc.transform(test_match.loc[:, test_numerical_features])"
   ]
  },
  {
   "cell_type": "markdown",
   "id": "1b96513c-8834-47d8-af13-88d2bd32f47f",
   "metadata": {},
   "source": [
    "### Vamos utilizar somente o train_match e test_match, tal qual este modelo: https://www.kaggle.com/code/apapiu/regularized-linear-models"
   ]
  },
  {
   "cell_type": "code",
   "execution_count": 176,
   "id": "ab785117-eff6-488a-b120-1d5029ba2eed",
   "metadata": {},
   "outputs": [],
   "source": [
    "#creating matrices for sklearn:\n",
    "X_train = train_match.copy()\n",
    "X_test = test_match.copy()"
   ]
  },
  {
   "cell_type": "markdown",
   "id": "4c3683a6-8df9-4768-9236-7326f5e16254",
   "metadata": {},
   "source": [
    "## Modelo de Regressão Linear"
   ]
  },
  {
   "cell_type": "code",
   "execution_count": 177,
   "id": "7ab8d363-3d62-4e56-b13d-f1449696f693",
   "metadata": {},
   "outputs": [],
   "source": [
    "def rmse_cv(model):\n",
    "    rmse= np.sqrt(-cross_val_score(model, X_train, y, scoring=\"neg_mean_squared_error\", cv = 5))\n",
    "    return(rmse)"
   ]
  },
  {
   "cell_type": "code",
   "execution_count": 178,
   "id": "53e59dff-8230-41b9-b2d4-f1d39928c348",
   "metadata": {},
   "outputs": [],
   "source": [
    "model_ridge = Ridge()"
   ]
  },
  {
   "cell_type": "code",
   "execution_count": 179,
   "id": "1749688f-f8e7-45ff-941c-b0408dde2c81",
   "metadata": {},
   "outputs": [],
   "source": [
    "alphas = [0.05, 0.1, 0.3, 1, 3, 5, 6, 7, 8, 12, 15]\n",
    "cv_ridge = [rmse_cv(Ridge(alpha = alpha)).mean() \n",
    "            for alpha in alphas]"
   ]
  },
  {
   "cell_type": "code",
   "execution_count": 180,
   "id": "41a51839-110f-4980-bdd2-6d7e89405d79",
   "metadata": {},
   "outputs": [
    {
     "data": {
      "text/plain": [
       "Text(0, 0.5, 'rmse')"
      ]
     },
     "execution_count": 180,
     "metadata": {},
     "output_type": "execute_result"
    },
    {
     "data": {
      "image/png": "[encoded data removed]",
      "text/plain": [
       "<Figure size 432x288 with 1 Axes>"
      ]
     },
     "metadata": {
      "needs_background": "light"
     },
     "output_type": "display_data"
    }
   ],
   "source": [
    "cv_ridge = pd.Series(cv_ridge, index = alphas)\n",
    "cv_ridge.plot(title = \"Validation - Just Do It\")\n",
    "plt.xlabel(\"alpha\")\n",
    "plt.ylabel(\"rmse\")"
   ]
  },
  {
   "cell_type": "code",
   "execution_count": 182,
   "id": "389498a2-ab64-41bb-9683-c082139106a0",
   "metadata": {},
   "outputs": [],
   "source": [
    "cv_ridge.min()"
   ]
  },
  {
   "cell_type": "code",
   "execution_count": 223,
   "id": "da17c6eb-94f6-4e47-95f2-1f98bde380da",
   "metadata": {},
   "outputs": [
    {
     "data": {
      "text/plain": [
       "0.11051819941523622"
      ]
     },
     "execution_count": 223,
     "metadata": {},
     "output_type": "execute_result"
    }
   ],
   "source": [
    "model_lasso = LassoCV(alphas = [3, 0.1, 0.001, 0.0005]).fit(X_train, y)\n",
    "rmse_cv(model_lasso).mean()"
   ]
  },
  {
   "cell_type": "code",
   "execution_count": 224,
   "id": "9e501e17-e57e-452a-b5be-fbd833c2e9a6",
   "metadata": {},
   "outputs": [],
   "source": [
    "# model_lasso = LassoCV(alphas = [1, 0.1, 0.001, 0.0005]).fit(X_train, y)\n",
    "# 0.11051819941523622\n",
    "#\n",
    "#\n",
    "#\n",
    "#\n",
    "#\n",
    "#"
   ]
  },
  {
   "cell_type": "code",
   "execution_count": 225,
   "id": "829ad272-d9d6-4620-af34-d4f0efd69e60",
   "metadata": {},
   "outputs": [],
   "source": [
    "coef = pd.Series(model_lasso.coef_, index = X_train.columns)"
   ]
  },
  {
   "cell_type": "code",
   "execution_count": 226,
   "id": "2d4891d2-a1fc-4d99-a927-2f22146c7a35",
   "metadata": {},
   "outputs": [
    {
     "name": "stdout",
     "output_type": "stream",
     "text": [
      "Lasso picked 102 variables and eliminated the other 139 variables\n"
     ]
    }
   ],
   "source": [
    "print(\"Lasso picked \" + str(sum(coef != 0)) + \" variables and eliminated the other \" +  str(sum(coef == 0)) + \" variables\")\n"
   ]
  },
  {
   "cell_type": "code",
   "execution_count": 227,
   "id": "6f48648e-7fcc-44c3-b642-90492c60c9da",
   "metadata": {},
   "outputs": [],
   "source": [
    "imp_coef = pd.concat([coef.sort_values().head(10),\n",
    "                     coef.sort_values().tail(10)])"
   ]
  },
  {
   "cell_type": "code",
   "execution_count": 228,
   "id": "b6b9f553-abac-4d8f-8501-ed84fd299e97",
   "metadata": {},
   "outputs": [
    {
     "data": {
      "text/plain": [
       "Text(0.5, 1.0, 'Coefficients in the Lasso Model')"
      ]
     },
     "execution_count": 228,
     "metadata": {},
     "output_type": "execute_result"
    },
    {
     "data": {
      "image/png": "[encoded data removed]",
      "text/plain": [
       "<Figure size 576x720 with 1 Axes>"
      ]
     },
     "metadata": {
      "needs_background": "light"
     },
     "output_type": "display_data"
    }
   ],
   "source": [
    "matplotlib.rcParams['figure.figsize'] = (8.0, 10.0)\n",
    "imp_coef.plot(kind = \"barh\")\n",
    "plt.title(\"Coefficients in the Lasso Model\")"
   ]
  },
  {
   "cell_type": "code",
   "execution_count": 229,
   "id": "e82af17e-e599-47b6-bf93-8170c88c6c1e",
   "metadata": {},
   "outputs": [],
   "source": [
    "dtrain = xgb.DMatrix(X_train, label = y)\n",
    "dtest = xgb.DMatrix(X_test)\n",
    "\n",
    "params = {\"max_depth\":2, \"eta\":0.1}\n",
    "model = xgb.cv(params, dtrain,  num_boost_round=500, early_stopping_rounds=100)"
   ]
  },
  {
   "cell_type": "code",
   "execution_count": 230,
   "id": "007a74ca-dbcc-4bc9-8bb7-e0b5764ab6d3",
   "metadata": {},
   "outputs": [
    {
     "data": {
      "text/plain": [
       "<AxesSubplot:>"
      ]
     },
     "execution_count": 230,
     "metadata": {},
     "output_type": "execute_result"
    },
    {
     "data": {
      "image/png": "[encoded data removed]",
      "text/plain": [
       "<Figure size 576x720 with 1 Axes>"
      ]
     },
     "metadata": {
      "needs_background": "light"
     },
     "output_type": "display_data"
    }
   ],
   "source": [
    "model.loc[30:,[\"test-rmse-mean\", \"train-rmse-mean\"]].plot()"
   ]
  },
  {
   "cell_type": "code",
   "execution_count": 231,
   "id": "2b7fdb53-3edc-4cbf-82d5-24de3bd84911",
   "metadata": {},
   "outputs": [
    {
     "data": {
      "text/plain": [
       "array([0.10580705, 0.12023968, 0.11913366, 0.10991085, 0.11640289])"
      ]
     },
     "execution_count": 231,
     "metadata": {},
     "output_type": "execute_result"
    }
   ],
   "source": [
    "model_mk3 = XGBRegressor(colsample_bytree=0.4, learning_rate=0.02, max_depth=2, n_estimators=2500)\n",
    "model_mk3.fit(X_train, y, verbose=False)\n",
    "rmse_cv(model_mk3)"
   ]
  },
  {
   "cell_type": "code",
   "execution_count": 232,
   "id": "718a028d-7056-4f6a-b8ba-ee4a5bbf5087",
   "metadata": {},
   "outputs": [],
   "source": [
    "# Resultados XGBR:\n",
    "#model_mk3 = XGBRegressor(colsample_bytree=0.4, learning_rate=0.05, max_depth=2, n_estimators=1000)\n",
    "#array([0.10729786, 0.12061268, 0.12051612, 0.11279443, 0.11387477])\n",
    "\n",
    "#model_mk3 = XGBRegressor(colsample_bytree=0.4, learning_rate=0.03, max_depth=2, n_estimators=1000)\n",
    "#array([0.10486259, 0.12102945, 0.12144519, 0.1113487 , 0.11554947])\n",
    "#média = 0,1148\n",
    "\n",
    "#model_mk3 = XGBRegressor(colsample_bytree=0.4, learning_rate=0.04, max_depth=2, n_estimators=1000)\n",
    "#array([0.10762376, 0.11972693, 0.12043156, 0.11274567, 0.11651497])\n",
    "#média = 0,1153\n",
    "\n",
    "#model_mk3 = XGBRegressor(colsample_bytree=0.4, learning_rate=0.03, max_depth=4, n_estimators=1000)\n",
    "#array([0.10836812, 0.12138675, 0.12100302, 0.110549  , 0.11504046])\n",
    "#média = 0,1152\n",
    "\n",
    "#model_mk3 = XGBRegressor(colsample_bytree=0.4, learning_rate=0.03, max_depth=3, n_estimators=1000)\n",
    "#array([0.10705618, 0.12156923, 0.12029705, 0.11015782, 0.11553259])\n",
    "#média = 0,1148\n",
    "\n",
    "#model_mk3 = XGBRegressor(colsample_bytree=0.4, learning_rate=0.05, max_depth=3, n_estimators=1000)\n",
    "#array([0.11043549, 0.1215128 , 0.12029638, 0.10974454, 0.11332869])\n",
    "#média = 0,1150\n",
    "\n",
    "#model_mk3 = XGBRegressor(colsample_bytree=0.4, learning_rate=0.05, max_depth=3, n_estimators=2000)\n",
    "#array([0.1099581 , 0.12235381, 0.1206611 , 0.10999422, 0.11365745])\n",
    "#média = 0,1152\n",
    "\n",
    "#model_mk3 = XGBRegressor(colsample_bytree=0.4, learning_rate=0.03, max_depth=3, n_estimators=2500)\n",
    "#array([0.10573891, 0.12224668, 0.11896385, 0.10906656, 0.11610178])\n",
    "#média = 0,1144\n",
    "\n",
    "#model_mk3 = XGBRegressor(colsample_bytree=0.4, learning_rate=0.02, max_depth=3, n_estimators=2500)\n",
    "#array([0.1064937 , 0.12021861, 0.12007234, 0.10622904, 0.11571741])\n",
    "#média = 0,1137"
   ]
  },
  {
   "cell_type": "code",
   "execution_count": 244,
   "id": "ca98c462-7276-499d-aba6-283a66cd5614",
   "metadata": {},
   "outputs": [],
   "source": [
    "mk3_predictions = np.expm1(model_mk3.predict(X_test))\n",
    "lasso_preds = np.expm1(model_lasso.predict(X_test))"
   ]
  },
  {
   "cell_type": "code",
   "execution_count": 245,
   "id": "6023870e-1227-4f13-ba10-caf0cc4f3f44",
   "metadata": {},
   "outputs": [
    {
     "data": {
      "text/plain": [
       "<AxesSubplot:xlabel='xgb', ylabel='lasso'>"
      ]
     },
     "execution_count": 245,
     "metadata": {},
     "output_type": "execute_result"
    },
    {
     "data": {
      "image/png": "[encoded data removed]",
      "text/plain": [
       "<Figure size 576x720 with 1 Axes>"
      ]
     },
     "metadata": {
      "needs_background": "light"
     },
     "output_type": "display_data"
    }
   ],
   "source": [
    "predictions = pd.DataFrame({\"xgb\":mk3_predictions, \"lasso\":lasso_preds})\n",
    "predictions.plot(x = \"xgb\", y = \"lasso\", kind = \"scatter\")"
   ]
  },
  {
   "cell_type": "code",
   "execution_count": 246,
   "id": "b831360e-5b20-44e6-beee-ef6342669f45",
   "metadata": {},
   "outputs": [],
   "source": [
    "#preds = 0.3*lasso_preds + 0.7*mk3_predictions\n",
    "# Submission LASSO x XGBR 1 e 2: preds = 0.7*lasso_preds + 0.3*mk3_predictions\n",
    "# Submission LASSO x XGBR 3: preds = 0.5*lasso_preds + 0.5*mk3_predictions\n",
    "# Submission LASSO x XGBR 4: preds = 0.3*lasso_preds + 0.7*mk3_predictions"
   ]
  },
  {
   "cell_type": "code",
   "execution_count": 247,
   "id": "ec518ed2-ccaa-4964-bcea-c2fcc50d5ca8",
   "metadata": {},
   "outputs": [
    {
     "data": {
      "text/plain": [
       "<AxesSubplot:xlabel='xgb', ylabel='lasso'>"
      ]
     },
     "execution_count": 247,
     "metadata": {},
     "output_type": "execute_result"
    },
    {
     "data": {
      "image/png": "[encoded data removed]",
      "text/plain": [
       "<Figure size 576x720 with 1 Axes>"
      ]
     },
     "metadata": {
      "needs_background": "light"
     },
     "output_type": "display_data"
    }
   ],
   "source": [
    "predictions = pd.DataFrame({\"xgb\":mk3_predictions, \"lasso\":lasso_preds})\n",
    "predictions.plot(x = \"xgb\", y = \"lasso\", kind = \"scatter\")"
   ]
  },
  {
   "cell_type": "markdown",
   "id": "736b27ee-4b5c-4ec7-bb4b-ce8f8c9d8129",
   "metadata": {},
   "source": [
    "## Previsões e output.csv"
   ]
  },
  {
   "cell_type": "code",
   "execution_count": 250,
   "id": "1fed850d-36d3-45b9-853a-f8e7c7c35ef4",
   "metadata": {},
   "outputs": [],
   "source": [
    "solution = pd.DataFrame({\"Id\":test_ids, \"SalePrice\":mk3_predictions})\n",
    "solution.to_csv(\"submission_LASSO_mk4.csv\", index = False)"
   ]
  },
  {
   "cell_type": "code",
   "execution_count": null,
   "id": "37671370-ed7f-4978-91e2-26a34ca1c383",
   "metadata": {},
   "outputs": [],
   "source": []
  }
 ],
 "metadata": {
  "kernelspec": {
   "display_name": "Python 3 (ipykernel)",
   "language": "python",
   "name": "python3"
  },
  "language_info": {
   "codemirror_mode": {
    "name": "ipython",
    "version": 3
   },
   "file_extension": ".py",
   "mimetype": "text/x-python",
   "name": "python",
   "nbconvert_exporter": "python",
   "pygments_lexer": "ipython3",
   "version": "3.10.4"
  }
 },
 "nbformat": 4,
 "nbformat_minor": 5
}
